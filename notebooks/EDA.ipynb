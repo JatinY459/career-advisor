{
 "cells": [
  {
   "cell_type": "markdown",
   "id": "4f6b3c3c-abb9-4a06-a0b2-51177323b668",
   "metadata": {},
   "source": [
    "## **1. Dataset Overview**"
   ]
  },
  {
   "cell_type": "markdown",
   "id": "d801ea51-b601-4959-a1c9-740d9be1688c",
   "metadata": {},
   "source": [
    "#### ***Brief Introduction***\n",
    "This notebook utilizes the Global AI Job Market & Salary Trends 2025 dataset, available on Kaggle. The dataset is designed to simulate real-world AI and machine learning job market trends for educational and research purposes. It includes over 15,000 job postings from around the globe, featuring a wide spectrum of roles—such as Data Scientist, ML Engineer, and AI Researcher—and covers key details about salaries, company locations, job types, required skills, experience levels, and more. The information is algorithmically generated and anonymized based on industry research, resulting in a rich, comprehensive resource for analysis.\n",
    "\n",
    "#### ***Objective of Analysis***\n",
    "The main objective of this exploratory analysis is to gain a deep understanding of the dataset's structure and the current landscape of AI jobs worldwide. We’ll focus on:\n",
    "- Investigating salary trends across job roles and locations.\n",
    "- Identifying in-demand skills and qualifications.\n",
    "- Mapping geographic hotspots and regional differences for expertise and opportunities.\n",
    "- Exploring other key job attributes such as experience levels, company size, employment type, and remote work prevalence.\n",
    "\n",
    "This analysis is intended as a foundation for potential machine learning project—such as salary prediction, upskilling suggestions, talent matching, and career advising. The goal is to familiarize ourselves with the dataset’s potential and spot actionable analytical directions appropriate for a data science workflow."
   ]
  },
  {
   "cell_type": "markdown",
   "id": "42b7f930-76f4-4ed3-8287-1857b72d0451",
   "metadata": {},
   "source": [
    "## **2. Import Libraries & Dataset**"
   ]
  },
  {
   "cell_type": "code",
   "execution_count": 1,
   "id": "7f8b114f",
   "metadata": {},
   "outputs": [],
   "source": [
    "import numpy as np\n",
    "import pandas as pd\n",
    "import matplotlib.pyplot as plt\n",
    "import seaborn as sns\n",
    "%matplotlib inline"
   ]
  },
  {
   "cell_type": "code",
   "execution_count": 2,
   "id": "83dc3bc2-80c1-41ee-8753-7088419f37c5",
   "metadata": {},
   "outputs": [],
   "source": [
    "data = pd.read_csv('../data/raw/ai_job_dataset1.csv')"
   ]
  },
  {
   "cell_type": "code",
   "execution_count": 10,
   "id": "b19153bb-4ed6-4a8f-ae1d-46d04e19fcc0",
   "metadata": {},
   "outputs": [
    {
     "name": "stdout",
     "output_type": "stream",
     "text": [
      "<class 'pandas.core.frame.DataFrame'>\n",
      "RangeIndex: 15000 entries, 0 to 14999\n",
      "Data columns (total 20 columns):\n",
      " #   Column                  Non-Null Count  Dtype  \n",
      "---  ------                  --------------  -----  \n",
      " 0   job_id                  15000 non-null  object \n",
      " 1   job_title               15000 non-null  object \n",
      " 2   salary_usd              15000 non-null  int64  \n",
      " 3   salary_currency         15000 non-null  object \n",
      " 4   salary_local            15000 non-null  int64  \n",
      " 5   experience_level        15000 non-null  object \n",
      " 6   employment_type         15000 non-null  object \n",
      " 7   company_location        15000 non-null  object \n",
      " 8   company_size            15000 non-null  object \n",
      " 9   employee_residence      15000 non-null  object \n",
      " 10  remote_ratio            15000 non-null  int64  \n",
      " 11  required_skills         15000 non-null  object \n",
      " 12  education_required      15000 non-null  object \n",
      " 13  years_experience        15000 non-null  int64  \n",
      " 14  industry                15000 non-null  object \n",
      " 15  posting_date            15000 non-null  object \n",
      " 16  application_deadline    15000 non-null  object \n",
      " 17  job_description_length  15000 non-null  int64  \n",
      " 18  benefits_score          15000 non-null  float64\n",
      " 19  company_name            15000 non-null  object \n",
      "dtypes: float64(1), int64(5), object(14)\n",
      "memory usage: 2.3+ MB\n"
     ]
    }
   ],
   "source": [
    "data.info()"
   ]
  },
  {
   "cell_type": "markdown",
   "id": "f723a042-7219-42b4-8a31-9dd7deeceb49",
   "metadata": {},
   "source": [
    "---\n",
    "#### ***Unique Values of Attributes***"
   ]
  },
  {
   "cell_type": "code",
   "execution_count": 18,
   "id": "fd74c3cf-7b1f-4f6c-9f33-ae7ce48530d5",
   "metadata": {},
   "outputs": [
    {
     "data": {
      "text/plain": [
       "job_title\n",
       "Machine Learning Engineer      824\n",
       "Deep Learning Engineer         786\n",
       "Computer Vision Engineer       780\n",
       "AI Specialist                  774\n",
       "Data Engineer                  769\n",
       "Principal Data Scientist       768\n",
       "AI Product Manager             764\n",
       "Data Scientist                 763\n",
       "Robotics Engineer              762\n",
       "AI Architect                   758\n",
       "Autonomous Systems Engineer    755\n",
       "NLP Engineer                   741\n",
       "Data Analyst                   734\n",
       "Machine Learning Researcher    734\n",
       "Research Scientist             731\n",
       "AI Software Engineer           730\n",
       "AI Research Scientist          724\n",
       "AI Consultant                  713\n",
       "Head of AI                     701\n",
       "ML Ops Engineer                689\n",
       "Name: count, dtype: int64"
      ]
     },
     "execution_count": 18,
     "metadata": {},
     "output_type": "execute_result"
    }
   ],
   "source": [
    "data[\"job_title\"].value_counts()"
   ]
  },
  {
   "cell_type": "code",
   "execution_count": 19,
   "id": "1f5e5989-f1ff-4c53-9962-0cfb3b93257b",
   "metadata": {},
   "outputs": [
    {
     "data": {
      "text/plain": [
       "experience_level\n",
       "EX    3843\n",
       "MI    3764\n",
       "SE    3741\n",
       "EN    3652\n",
       "Name: count, dtype: int64"
      ]
     },
     "execution_count": 19,
     "metadata": {},
     "output_type": "execute_result"
    }
   ],
   "source": [
    "data[\"experience_level\"].value_counts()"
   ]
  },
  {
   "cell_type": "code",
   "execution_count": 3,
   "id": "88c35775-73b1-47c4-946f-5d0d484393d4",
   "metadata": {},
   "outputs": [
    {
     "data": {
      "text/plain": [
       "employment_type\n",
       "CT    3841\n",
       "PT    3757\n",
       "FL    3705\n",
       "FT    3697\n",
       "Name: count, dtype: int64"
      ]
     },
     "execution_count": 3,
     "metadata": {},
     "output_type": "execute_result"
    }
   ],
   "source": [
    "data[\"employment_type\"].value_counts()"
   ]
  },
  {
   "cell_type": "code",
   "execution_count": 21,
   "id": "c5181c3a-e3c1-41fd-bdd1-9f628407975e",
   "metadata": {},
   "outputs": [
    {
     "data": {
      "text/plain": [
       "company_size\n",
       "L    5087\n",
       "S    4975\n",
       "M    4938\n",
       "Name: count, dtype: int64"
      ]
     },
     "execution_count": 21,
     "metadata": {},
     "output_type": "execute_result"
    }
   ],
   "source": [
    "data[\"company_size\"].value_counts()"
   ]
  },
  {
   "cell_type": "code",
   "execution_count": 24,
   "id": "6cd4b418-6fd8-47b4-aa0d-656de694c73f",
   "metadata": {},
   "outputs": [
    {
     "data": {
      "text/plain": [
       "education_required\n",
       "Bachelor     3863\n",
       "PhD          3761\n",
       "Associate    3688\n",
       "Master       3688\n",
       "Name: count, dtype: int64"
      ]
     },
     "execution_count": 24,
     "metadata": {},
     "output_type": "execute_result"
    }
   ],
   "source": [
    "data[\"education_required\"].value_counts()"
   ]
  },
  {
   "cell_type": "code",
   "execution_count": null,
   "id": "18a35df7-8c95-45ef-b41b-bf42f4b94309",
   "metadata": {},
   "outputs": [],
   "source": []
  }
 ],
 "metadata": {
  "kernelspec": {
   "display_name": "Python 3 (ipykernel)",
   "language": "python",
   "name": "python3"
  },
  "language_info": {
   "codemirror_mode": {
    "name": "ipython",
    "version": 3
   },
   "file_extension": ".py",
   "mimetype": "text/x-python",
   "name": "python",
   "nbconvert_exporter": "python",
   "pygments_lexer": "ipython3",
   "version": "3.12.3"
  }
 },
 "nbformat": 4,
 "nbformat_minor": 5
}
